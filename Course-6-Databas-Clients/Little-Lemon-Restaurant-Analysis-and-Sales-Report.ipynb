{
 "cells": [
  {
   "cell_type": "markdown",
   "id": "2aef5971",
   "metadata": {},
   "source": [
    "# Little Lemon Restaurant Analysis and Sales Report"
   ]
  },
  {
   "cell_type": "markdown",
   "id": "a70dab8b",
   "metadata": {},
   "source": [
    "## Task 1: Establish a Connection Pool"
   ]
  },
  {
   "cell_type": "code",
   "execution_count": 5,
   "id": "d84ce5e0",
   "metadata": {},
   "outputs": [
    {
     "name": "stdout",
     "output_type": "stream",
     "text": [
      "Requirement already satisfied: mysql-connector-python in c:\\users\\hisha\\anaconda3\\lib\\site-packages (8.0.32)\n",
      "Requirement already satisfied: protobuf<=3.20.3,>=3.11.0 in c:\\users\\hisha\\anaconda3\\lib\\site-packages (from mysql-connector-python) (3.20.3)\n"
     ]
    }
   ],
   "source": [
    "#Install MySQL-Python Connector\n",
    "!pip install mysql-connector-python"
   ]
  },
  {
   "cell_type": "code",
   "execution_count": 8,
   "id": "77396ed8",
   "metadata": {},
   "outputs": [],
   "source": [
    "# Import MySQL Connector/Python \n",
    "import mysql.connector as connector\n",
    "connection=connector.connect(user=\"root\",password=\"#Lemonfish05\")"
   ]
  },
  {
   "cell_type": "code",
   "execution_count": 9,
   "id": "5377ddbc",
   "metadata": {
    "scrolled": true
   },
   "outputs": [
    {
     "name": "stdout",
     "output_type": "stream",
     "text": [
      "Cursor is created to communicate with the MySQL using Python.\n"
     ]
    }
   ],
   "source": [
    "# Create cursor object to communicate with entire MySQL database\n",
    "cursor = connection.cursor()\n",
    "print(\"Cursor is created to communicate with the MySQL using Python.\")\n"
   ]
  },
  {
   "cell_type": "code",
   "execution_count": 10,
   "id": "99b66515",
   "metadata": {},
   "outputs": [
    {
     "name": "stdout",
     "output_type": "stream",
     "text": [
      "The database 'little_lemon_db' is created.\n",
      "\n",
      "The database little_lemon is set for use.\n"
     ]
    }
   ],
   "source": [
    "# Use try-except block to create a database named \"little_lemon_db\"\n",
    "# If the database already exists then drop the database first, then create it again.\n",
    "try:\n",
    "    cursor.execute(\"CREATE DATABASE little_lemon_db\")\n",
    "except:\n",
    "    cursor.execute(\"DROP DATABASE little_lemon_db\")\n",
    "    cursor.execute(\"CREATE DATABASE little_lemon_db\")\n",
    "print(\"The database 'little_lemon_db' is created.\\n\")    \n",
    "\n",
    "# Set little_lemon database for use \n",
    "cursor.execute(\"USE little_lemon_db\")\n",
    "print(\"The database little_lemon is set for use.\")"
   ]
  },
  {
   "cell_type": "code",
   "execution_count": null,
   "id": "4ae7db75",
   "metadata": {},
   "outputs": [],
   "source": []
  }
 ],
 "metadata": {
  "kernelspec": {
   "display_name": "Python 3 (ipykernel)",
   "language": "python",
   "name": "python3"
  },
  "language_info": {
   "codemirror_mode": {
    "name": "ipython",
    "version": 3
   },
   "file_extension": ".py",
   "mimetype": "text/x-python",
   "name": "python",
   "nbconvert_exporter": "python",
   "pygments_lexer": "ipython3",
   "version": "3.9.13"
  }
 },
 "nbformat": 4,
 "nbformat_minor": 5
}
